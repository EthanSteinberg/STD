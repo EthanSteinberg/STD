{
 "cells": [
  {
   "cell_type": "code",
   "execution_count": 1,
   "metadata": {},
   "outputs": [],
   "source": [
    "import pandas as pd"
   ]
  },
  {
   "cell_type": "code",
   "execution_count": 3,
   "metadata": {},
   "outputs": [],
   "source": [
    "df = pd.read_csv('data/census_aggregated.csv', sep='\\t')"
   ]
  },
  {
   "cell_type": "code",
   "execution_count": 9,
   "metadata": {},
   "outputs": [
    {
     "name": "stdout",
     "output_type": "stream",
     "text": [
      "state\n",
      "Alabama            3977157\n",
      "Alaska              583607\n",
      "Arizona            5660889\n",
      "Arkansas           2417443\n",
      "California        32010232\n",
      "Colorado           4563299\n",
      "Connecticut        2986131\n",
      "Delaware            793492\n",
      "Florida           17513896\n",
      "Georgia            8351891\n",
      "Hawaii             1168207\n",
      "Idaho              1350174\n",
      "Illinois          10409225\n",
      "Indiana            5365909\n",
      "Iowa               2536704\n",
      "Kansas             2322784\n",
      "Kentucky           3615144\n",
      "Louisiana          3760024\n",
      "Maine              1127705\n",
      "Maryland           4939542\n",
      "Massachusetts      5739581\n",
      "Michigan           8181364\n",
      "Minnesota          4505985\n",
      "Mississippi        2392840\n",
      "Missouri           4962509\n",
      "Montana             859919\n",
      "Nebraska           1522156\n",
      "Nevada             2428430\n",
      "New Hampshire      1133872\n",
      "New Jersey         7377894\n",
      "New Mexico         1683249\n",
      "New York          16407875\n",
      "North Carolina     8377534\n",
      "North Dakota        608452\n",
      "Ohio               9517734\n",
      "Oklahoma           3131629\n",
      "Oregon             3418654\n",
      "Pennsylvania      10608985\n",
      "Rhode Island        889799\n",
      "South Carolina     4108940\n",
      "South Dakota        691169\n",
      "Tennessee          5465945\n",
      "Texas             22164250\n",
      "Utah               2329200\n",
      "Vermont             529044\n",
      "Virginia           6919304\n",
      "Washington         6023034\n",
      "Washington, DC      585462\n",
      "West Virginia      1507505\n",
      "Wisconsin          4733883\n",
      "Wyoming             462817\n",
      "Name: count, dtype: int64\n"
     ]
    }
   ],
   "source": [
    "print(df.groupby('state')['count'].aggregate('sum'))"
   ]
  }
 ],
 "metadata": {
  "kernelspec": {
   "display_name": "Python 3",
   "language": "python",
   "name": "python3"
  },
  "language_info": {
   "codemirror_mode": {
    "name": "ipython",
    "version": 3
   },
   "file_extension": ".py",
   "mimetype": "text/x-python",
   "name": "python",
   "nbconvert_exporter": "python",
   "pygments_lexer": "ipython3",
   "version": "3.7.1"
  }
 },
 "nbformat": 4,
 "nbformat_minor": 2
}
