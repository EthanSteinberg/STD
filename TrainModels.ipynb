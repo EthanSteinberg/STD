{
 "cells": [
  {
   "cell_type": "code",
   "execution_count": 1,
   "metadata": {},
   "outputs": [],
   "source": [
    "import numpy\n",
    "import csv\n",
    "import numpy as np\n",
    "from collections import defaultdict\n",
    "import pickle"
   ]
  },
  {
   "cell_type": "code",
   "execution_count": 2,
   "metadata": {},
   "outputs": [],
   "source": [
    "with open('data/disease_map.pkl', 'rb') as f:\n",
    "    disease_map = pickle.load(f)\n",
    "    \n",
    "with open('data/values_per_column.pkl', 'rb') as f:\n",
    "    values_per_column = pickle.load(f)"
   ]
  },
  {
   "cell_type": "code",
   "execution_count": 3,
   "metadata": {},
   "outputs": [],
   "source": [
    "with open('data/stanford_blueprint_datathon_2019_data.csv') as f:\n",
    "    reader = csv.reader(f)\n",
    "    header = next(reader)\n",
    "    \n",
    "    header_map = {name: i for i, name in enumerate(header)}\n",
    "    \n",
    "diseases = ['chlamydia', 'gential_warts', 'gonorrhea', 'herpes', 'hpv', 'other_std', 'parasitic', 'std_screen', 'syphilis', 'trich']\n"
   ]
  },
  {
   "cell_type": "code",
   "execution_count": 4,
   "metadata": {},
   "outputs": [],
   "source": [
    "column_to_name = {}\n",
    "index = 0\n",
    "for i, name in enumerate(header):\n",
    "    if i in values_per_column:\n",
    "        column_to_name[index] = name + \"|\" + ''\n",
    "        index += 1\n",
    "        \n",
    "        for val in values_per_column[i]: \n",
    "            column_to_name[index] = name + \"|\" + val\n",
    "            index += 1\n",
    "    else:\n",
    "        column_to_name[index] = name\n",
    "        index += 1\n",
    "\n",
    "name_to_column = {column: index for index, column in column_to_name.items()}"
   ]
  },
  {
   "cell_type": "code",
   "execution_count": 5,
   "metadata": {},
   "outputs": [
    {
     "name": "stdout",
     "output_type": "stream",
     "text": [
      "10135\n",
      "9673\n"
     ]
    }
   ],
   "source": [
    "disease_to_index = {disease: i for i, disease in enumerate(diseases)}\n",
    "\n",
    "train_year = '2016-10-01'\n",
    "test_year = '2017-01-01'\n",
    "\n",
    "target_disease = 'parasitic'\n",
    "\n",
    "def get_x_y(year, target_disease):\n",
    "    labels = np.load('data/labels/' + year + '.npy')[:, disease_to_index[target_disease]]\n",
    "    non_nan_labels = ~np.isnan(labels)\n",
    "    return np.load('data/rows/' + year + '.npy')[non_nan_labels, :], labels[non_nan_labels]\n",
    "    \n",
    "train_x, train_y = get_x_y(train_year, target_disease)\n",
    "test_x, test_y = get_x_y(test_year, target_disease)\n",
    "\n",
    "print(len(train_x))\n",
    "print(len(test_x))"
   ]
  },
  {
   "cell_type": "code",
   "execution_count": 6,
   "metadata": {},
   "outputs": [],
   "source": [
    "import sklearn.impute\n",
    "import sklearn.preprocessing\n",
    "\n",
    "mean_inputer = sklearn.impute.SimpleImputer()\n",
    "T_train_x = mean_inputer.fit_transform(train_x)\n",
    "T_test_x = mean_inputer.transform(test_x)"
   ]
  },
  {
   "cell_type": "code",
   "execution_count": 7,
   "metadata": {},
   "outputs": [],
   "source": [
    "scaler = sklearn.preprocessing.StandardScaler()\n",
    "T_train_x = scaler.fit_transform(T_train_x)\n",
    "T_test_x = scaler.transform(T_test_x)"
   ]
  },
  {
   "cell_type": "code",
   "execution_count": 8,
   "metadata": {},
   "outputs": [
    {
     "data": {
      "text/plain": [
       "Lasso(alpha=0.001, copy_X=True, fit_intercept=True, max_iter=1000,\n",
       "   normalize=False, positive=False, precompute=False, random_state=None,\n",
       "   selection='cyclic', tol=0.0001, warm_start=False)"
      ]
     },
     "execution_count": 8,
     "metadata": {},
     "output_type": "execute_result"
    }
   ],
   "source": [
    "import sklearn.linear_model\n",
    "\n",
    "model =  sklearn.linear_model.Lasso(alpha=0.001)\n",
    "model.fit(T_train_x, train_y)"
   ]
  },
  {
   "cell_type": "code",
   "execution_count": 9,
   "metadata": {},
   "outputs": [
    {
     "name": "stdout",
     "output_type": "stream",
     "text": [
      "0.6599929129864321\n",
      "0.64802157903439\n"
     ]
    }
   ],
   "source": [
    "print(model.score(T_train_x, train_y))\n",
    "print(model.score(T_test_x, test_y))"
   ]
  },
  {
   "cell_type": "code",
   "execution_count": 10,
   "metadata": {},
   "outputs": [
    {
     "name": "stdout",
     "output_type": "stream",
     "text": [
      "('technology_and_connectivity__electronics_enthusiast', 0.047638178546395286)\n",
      "('technology_and_connectivity__science_&_new_tech_enthusiasts', 0.04432601582332632)\n",
      "('age|18-24 years old', 0.036271513138214716)\n",
      "('education|High School', -0.03617764956793113)\n",
      "('state|California', -0.029259491742187168)\n",
      "('education|Some High School or Less', 0.02643165602625926)\n",
      "('herpes', 0.025189588214639375)\n",
      "('state|Texas', -0.023752701065832955)\n",
      "('other_std', 0.023750989736325265)\n",
      "('restaurants_genres__steakhouse_customers', 0.023031121748072366)\n",
      "('state|Michigan', -0.02030686500441746)\n",
      "('hpv', 0.019920689336290688)\n",
      "('state|Washington, DC', 0.019293278833931806)\n",
      "('income|$250,000 or more', -0.017331592558080092)\n",
      "('parasitic', 0.016873971333240777)\n",
      "('state|Connecticut', 0.016361279411676876)\n",
      "('gender|Female', -0.01584802258027059)\n",
      "('state|Nevada', 0.014483417989796651)\n",
      "('state|Delaware', 0.013692299461684423)\n",
      "('state|Massachusetts', 0.013666009202496129)\n",
      "('entertainment_movies__online_movie_ticket_buyers', -0.012962884730494093)\n",
      "('state|Georgia', -0.012603331825865443)\n",
      "('state|Alaska', 0.012018821707436601)\n",
      "('state|North Carolina', -0.011627725179037953)\n",
      "('state|Oregon', 0.011546232390420358)\n",
      "('age|75+ years old', 0.01113640879818852)\n",
      "('state|Rhode Island', 0.010920580835159354)\n",
      "('state|Washington', 0.01081307853400798)\n",
      "('state|Illinois', -0.010284825533667628)\n",
      "('age|55-64 years old', -0.01024639327194897)\n",
      "('state|Utah', 0.010126144683798556)\n",
      "('services_software_and_online_services__online_review_services_paid_users', -0.010112541540710337)\n",
      "('state|Florida', -0.01005853006266178)\n",
      "('state|Oklahoma', 0.009527808001944683)\n",
      "('state|South Dakota', 0.009490632706955061)\n",
      "('technology_and_connectivity__smart_phone_owners', -0.009216331599391172)\n",
      "('state|Maine', 0.009183950446840646)\n",
      "('state|Nebraska', 0.009117302460225364)\n",
      "('state|Iowa', 0.00908612901463637)\n",
      "('state|Montana', 0.00902320554521458)\n",
      "('restaurants_genres__bbq_restaurant_customers', -0.008890228392427023)\n",
      "('education|Graduate School', 0.008877114817446316)\n",
      "('state|Vermont', 0.008836103860254513)\n",
      "('state|Idaho', 0.00881986177872933)\n",
      "('state|New Hampshire', 0.008561554461104633)\n",
      "('state|New Mexico', 0.008260189838297616)\n",
      "('state|Arkansas', 0.008197733593376376)\n",
      "('state|Colorado', 0.008177894382907525)\n",
      "('income|$125,000 - $129,999', 0.008131576710994765)\n",
      "('state|Hawaii', 0.00792590814295408)\n",
      "('income|$70,000 - $74,999', -0.007576703993434598)\n",
      "('state|Wyoming', 0.00757188351466504)\n",
      "('restaurants_genres__chicken_wing_restaurant_customers', 0.007407393301923892)\n",
      "('income|$45,000 - $49,999', -0.007269033179739979)\n",
      "('services_software_and_online_services__genealogy_research_service_paid_users', 0.0072001371579693335)\n",
      "('income|$150,000 - $159,999', 0.00694682344142296)\n",
      "('restaurants_genres__pasta_restaurant_customers', 0.006749100673142688)\n",
      "('state|Tennessee', -0.006582600916497961)\n",
      "('gential_warts', 0.006512753844347125)\n",
      "('services_software_and_online_services_spend|high', -0.006327135781326871)\n",
      "('restaurants_genres__french_restaurant_customers', -0.006282125454543507)\n",
      "('education|College', -0.006216234910390201)\n",
      "('restaurants_sit_down_upscale_dining_spend|low', -0.005849446145748484)\n",
      "('income|$160,000 - $169,999', 0.005819037786856569)\n",
      "('age|45-54 years old', -0.005713964764043099)\n",
      "('technology_and_connectivity__owns_apple_products', 0.005666863452238786)\n",
      "('high_speed_internet_users|medium', -0.0056116127042835804)\n",
      "('income|$30,000 - $34,999', -0.005421623289118651)\n",
      "('state|Ohio', -0.00541284345434489)\n",
      "('income|$55,000 - $59,999', -0.005302233206687593)\n",
      "('restaurants_sit_down_casual_dining_spend|low', -0.005298858028890517)\n",
      "('technology_and_connectivity__stream_music', -0.0052599776345471794)\n",
      "('restaurants_genres__donut_shop_customers', -0.005207591095926508)\n",
      "('services_software_and_online_services__online_dating_paid_users', -0.0051995317794119415)\n",
      "('services_software_and_online_services__graphic_design_software_paid_users', -0.005169552277529209)\n",
      "('income|$115,000 - $119,999', 0.005145363745296159)\n",
      "('restaurants_genres__mediterranean_restaurant_customers', -0.00511968469705337)\n",
      "('state|North Dakota', 0.0049495992278583015)\n",
      "('income|$110,000 - $114,999', 0.004810880141280396)\n",
      "('income|$135,000 - $139,999', 0.004697995219210563)\n",
      "('chlamydia', -0.004590665150931705)\n",
      "('trich', 0.004534219121431672)\n",
      "('state|Pennsylvania', -0.004512138232854349)\n",
      "('state|Kansas', 0.00417781242062122)\n",
      "('restaurant_app_users|low', 0.004170040944365757)\n",
      "('std_screen', -0.004032112089268219)\n",
      "('income|$180,000 - $189,999', 0.003971196507923498)\n",
      "('restaurants_sit_down_casual_dining_frequency|medium', 0.0039566532152040135)\n",
      "('income|$170,000 - $179,999', 0.003947974173465972)\n",
      "('state|Alabama', 0.003927402539476884)\n",
      "('entertainment_movies_frequency|high', -0.0039059651145713363)\n",
      "('state|West Virginia', 0.0037860781509734525)\n",
      "('income|$15,000 - $19,999', 0.003706371080360546)\n",
      "('income|$130,000 - $134,999', 0.0035857870177604194)\n",
      "('entertainment_movies_spend|high', 0.0034614670121757138)\n",
      "('restaurants_sit_down_upscale_dining_spend|medium', 0.003450351345733101)\n",
      "('income|$75,000 - $79,999', -0.0033107837074456956)\n",
      "('income|$200,000 - $224,999', 0.0028962361022069356)\n",
      "('income|$20,000 - $24,999', -0.0028749890205329418)\n",
      "('smart_phone_users|high', 0.0028487055119179442)\n",
      "('state|New York', -0.0027464403918081625)\n",
      "('services_software_and_online_services_frequency|medium', 0.0026261431797573067)\n",
      "('age|25-34 years old', 0.00235072172712886)\n",
      "('restaurants_sit_down_upscale_dining_frequency|medium', 0.0022914848997563284)\n",
      "('income|$105,000 - $109,999', 0.002286161222470666)\n",
      "('income|$90,000 - $94,999', 0.002252051477140735)\n",
      "('income|$140,000 - $144,999', 0.002206888441341316)\n",
      "('smart_phone_users|medium', -0.0021665381884588843)\n",
      "('coffee_enthusiasts|medium', 0.0019185150385030182)\n",
      "('income|$120,000 - $124,999', 0.0018211272468057831)\n",
      "('wearable_technology_and_connectivity_users|low', -0.0017566958108885377)\n",
      "('state|Indiana', -0.0017519949667793835)\n",
      "('services_ride_sharing_frequency|low', -0.0017364404734033266)\n",
      "('services_software_and_online_services_frequency|high', -0.0016526929501683389)\n",
      "('income|$145,000 - $149,999', 0.001646617420211349)\n",
      "('services_software_and_online_services_spend|medium', 0.0015545778947436027)\n",
      "('state|Minnesota', 0.0014817696961210223)\n",
      "('restaurants_genres__italian_restaurant_customers', 0.0014063739206569327)\n",
      "('state|Maryland', -0.0013142019901703837)\n",
      "('state|Virginia', -0.001258610561282208)\n",
      "('state|Mississippi', 0.0012510024874338548)\n",
      "('income|$100,000 - $104,999', -0.001123073740881008)\n",
      "('state|Arizona', -0.0009020309869046773)\n",
      "('income|$60,000 - $64,999', -0.0008461295154822644)\n",
      "('restaurants_sit_down_casual_dining_spend|medium', 0.0008181204065782164)\n",
      "('state|Missouri', -0.0008167777678122508)\n",
      "('services_ride_sharing_spend|low', -0.0008072437936844093)\n",
      "('restaurants_sit_down_casual_dining__arcade_&_entertainment_restaurant_customers', 0.0007956223536184593)\n",
      "('gonorrhea', -0.000770578481138583)\n",
      "('income|$40,000 - $44,999', -0.000670588705448711)\n",
      "('restaurants_fast_casual_dining_spend|low', 0.00059410959617091)\n",
      "('entertainment_movies_spend|medium', -0.000579066319240906)\n",
      "('state|Louisiana', 0.0005772078934463911)\n",
      "('income|Less than $14,999', 0.0005476260122463595)\n",
      "('income|$35,000 - $39,999', -0.0004412898684597574)\n",
      "('state|Wisconsin', 0.00041855815222485043)\n",
      "('state|New Jersey', 0.0003022824708862025)\n",
      "('services_ride_sharing_frequency|medium', 0.0002773532727112837)\n",
      "('services_ride_sharing_spend|high', 0.0001739110268979413)\n",
      "('income|$80,000 - $84,999', -0.00013891262081349085)\n",
      "('state|South Carolina', 4.219354370551702e-05)\n",
      "('income|$50,000 - $54,999', -3.6002489501985002e-06)\n",
      "('gender|Male', 2.488126461975819e-15)\n",
      "('high_speed_internet_users|low', 1.047235531861377e-15)\n",
      "('restaurants_fast_casual_dining_spend|medium', -1.5598989512249087e-17)\n",
      "('coffee_enthusiasts|low', -5.258086352443057e-19)\n"
     ]
    }
   ],
   "source": [
    "coefs = [(column_to_name[i], val) for i, val in enumerate(model.coef_) if val != 0]\n",
    "coefs.sort(key=lambda x: -abs(x[1]))\n",
    "print('\\n'.join(str(a) for a in coefs))"
   ]
  },
  {
   "cell_type": "code",
   "execution_count": 13,
   "metadata": {},
   "outputs": [
    {
     "name": "stdout",
     "output_type": "stream",
     "text": [
      "<lightgbm.basic.Dataset object at 0x7fd403fd6978>\n"
     ]
    }
   ],
   "source": [
    "import lightgbm\n",
    "train_data = lightgbm.Dataset(train_x, train_y)\n",
    "test_data = lightgbm.Dataset(test_x, test_y)"
   ]
  },
  {
   "cell_type": "code",
   "execution_count": 30,
   "metadata": {},
   "outputs": [
    {
     "name": "stdout",
     "output_type": "stream",
     "text": [
      "[1]\ttraining's l2: 0.0451449\tvalid_1's l2: 0.0462867\n",
      "Training until validation scores don't improve for 5 rounds.\n",
      "[2]\ttraining's l2: 0.0420191\tvalid_1's l2: 0.04325\n",
      "[3]\ttraining's l2: 0.0391906\tvalid_1's l2: 0.0405171\n",
      "[4]\ttraining's l2: 0.0366414\tvalid_1's l2: 0.0380304\n",
      "[5]\ttraining's l2: 0.0343499\tvalid_1's l2: 0.0358043\n",
      "[6]\ttraining's l2: 0.0322431\tvalid_1's l2: 0.0337725\n",
      "[7]\ttraining's l2: 0.0303491\tvalid_1's l2: 0.0319387\n",
      "[8]\ttraining's l2: 0.0286141\tvalid_1's l2: 0.0302624\n",
      "[9]\ttraining's l2: 0.0270499\tvalid_1's l2: 0.0287692\n",
      "[10]\ttraining's l2: 0.0256355\tvalid_1's l2: 0.0274088\n",
      "[11]\ttraining's l2: 0.0243249\tvalid_1's l2: 0.0261487\n",
      "[12]\ttraining's l2: 0.0231419\tvalid_1's l2: 0.0250054\n",
      "[13]\ttraining's l2: 0.0220617\tvalid_1's l2: 0.0239643\n",
      "[14]\ttraining's l2: 0.0210853\tvalid_1's l2: 0.0230363\n",
      "[15]\ttraining's l2: 0.020202\tvalid_1's l2: 0.022197\n",
      "[16]\ttraining's l2: 0.0193759\tvalid_1's l2: 0.0213943\n",
      "[17]\ttraining's l2: 0.0186282\tvalid_1's l2: 0.0206925\n",
      "[18]\ttraining's l2: 0.0179612\tvalid_1's l2: 0.0200648\n",
      "[19]\ttraining's l2: 0.0173531\tvalid_1's l2: 0.0194854\n",
      "[20]\ttraining's l2: 0.016783\tvalid_1's l2: 0.0189605\n",
      "[21]\ttraining's l2: 0.0162637\tvalid_1's l2: 0.0184862\n",
      "[22]\ttraining's l2: 0.0158025\tvalid_1's l2: 0.0180645\n",
      "[23]\ttraining's l2: 0.0153621\tvalid_1's l2: 0.0176664\n",
      "[24]\ttraining's l2: 0.0149802\tvalid_1's l2: 0.0173152\n",
      "[25]\ttraining's l2: 0.0146151\tvalid_1's l2: 0.0169966\n",
      "[26]\ttraining's l2: 0.0142792\tvalid_1's l2: 0.0167028\n",
      "[27]\ttraining's l2: 0.0139682\tvalid_1's l2: 0.0164193\n",
      "[28]\ttraining's l2: 0.0136872\tvalid_1's l2: 0.0161843\n",
      "[29]\ttraining's l2: 0.0134299\tvalid_1's l2: 0.0159572\n",
      "[30]\ttraining's l2: 0.0131857\tvalid_1's l2: 0.015756\n",
      "[31]\ttraining's l2: 0.0129475\tvalid_1's l2: 0.0155608\n",
      "[32]\ttraining's l2: 0.0127419\tvalid_1's l2: 0.0153914\n",
      "[33]\ttraining's l2: 0.0125468\tvalid_1's l2: 0.0152312\n",
      "[34]\ttraining's l2: 0.012364\tvalid_1's l2: 0.0150852\n",
      "[35]\ttraining's l2: 0.012201\tvalid_1's l2: 0.0149614\n",
      "[36]\ttraining's l2: 0.012037\tvalid_1's l2: 0.0148681\n",
      "[37]\ttraining's l2: 0.0118829\tvalid_1's l2: 0.014767\n",
      "[38]\ttraining's l2: 0.0117407\tvalid_1's l2: 0.014675\n",
      "[39]\ttraining's l2: 0.0116094\tvalid_1's l2: 0.0145837\n",
      "[40]\ttraining's l2: 0.0114866\tvalid_1's l2: 0.0145083\n",
      "[41]\ttraining's l2: 0.011363\tvalid_1's l2: 0.0144264\n",
      "[42]\ttraining's l2: 0.0112454\tvalid_1's l2: 0.0143476\n",
      "[43]\ttraining's l2: 0.0111366\tvalid_1's l2: 0.0142763\n",
      "[44]\ttraining's l2: 0.0110318\tvalid_1's l2: 0.01422\n",
      "[45]\ttraining's l2: 0.0109371\tvalid_1's l2: 0.0141632\n",
      "[46]\ttraining's l2: 0.0108376\tvalid_1's l2: 0.0141085\n",
      "[47]\ttraining's l2: 0.010757\tvalid_1's l2: 0.0140659\n",
      "[48]\ttraining's l2: 0.0106711\tvalid_1's l2: 0.014028\n",
      "[49]\ttraining's l2: 0.0105995\tvalid_1's l2: 0.0139943\n",
      "[50]\ttraining's l2: 0.010514\tvalid_1's l2: 0.0139564\n",
      "[51]\ttraining's l2: 0.0104364\tvalid_1's l2: 0.0139279\n",
      "[52]\ttraining's l2: 0.0103607\tvalid_1's l2: 0.013894\n",
      "[53]\ttraining's l2: 0.0102862\tvalid_1's l2: 0.013867\n",
      "[54]\ttraining's l2: 0.0102148\tvalid_1's l2: 0.0138352\n",
      "[55]\ttraining's l2: 0.0101432\tvalid_1's l2: 0.0138112\n",
      "[56]\ttraining's l2: 0.0100682\tvalid_1's l2: 0.0137928\n",
      "[57]\ttraining's l2: 0.00999918\tvalid_1's l2: 0.013756\n",
      "[58]\ttraining's l2: 0.00992136\tvalid_1's l2: 0.0137332\n",
      "[59]\ttraining's l2: 0.00984063\tvalid_1's l2: 0.0137058\n",
      "[60]\ttraining's l2: 0.00978131\tvalid_1's l2: 0.0136959\n",
      "[61]\ttraining's l2: 0.00971855\tvalid_1's l2: 0.01368\n",
      "[62]\ttraining's l2: 0.00966074\tvalid_1's l2: 0.0136617\n",
      "[63]\ttraining's l2: 0.00960402\tvalid_1's l2: 0.013655\n",
      "[64]\ttraining's l2: 0.00955056\tvalid_1's l2: 0.0136403\n",
      "[65]\ttraining's l2: 0.00949755\tvalid_1's l2: 0.0136309\n",
      "[66]\ttraining's l2: 0.00944237\tvalid_1's l2: 0.0136238\n",
      "[67]\ttraining's l2: 0.00939393\tvalid_1's l2: 0.0136167\n",
      "[68]\ttraining's l2: 0.00934946\tvalid_1's l2: 0.0136188\n",
      "[69]\ttraining's l2: 0.0093009\tvalid_1's l2: 0.0136141\n",
      "[70]\ttraining's l2: 0.00925383\tvalid_1's l2: 0.0136156\n",
      "[71]\ttraining's l2: 0.00919456\tvalid_1's l2: 0.013598\n",
      "[72]\ttraining's l2: 0.0091373\tvalid_1's l2: 0.0135919\n",
      "[73]\ttraining's l2: 0.00908172\tvalid_1's l2: 0.0135881\n",
      "[74]\ttraining's l2: 0.00903129\tvalid_1's l2: 0.0135713\n",
      "[75]\ttraining's l2: 0.00898709\tvalid_1's l2: 0.0135722\n",
      "[76]\ttraining's l2: 0.00894474\tvalid_1's l2: 0.0135756\n",
      "[77]\ttraining's l2: 0.00890521\tvalid_1's l2: 0.0135667\n",
      "[78]\ttraining's l2: 0.00886323\tvalid_1's l2: 0.0135655\n",
      "[79]\ttraining's l2: 0.00882872\tvalid_1's l2: 0.0135582\n",
      "[80]\ttraining's l2: 0.00879025\tvalid_1's l2: 0.0135553\n",
      "[81]\ttraining's l2: 0.00875306\tvalid_1's l2: 0.013553\n",
      "[82]\ttraining's l2: 0.00871178\tvalid_1's l2: 0.0135468\n",
      "[83]\ttraining's l2: 0.00867257\tvalid_1's l2: 0.0135508\n",
      "[84]\ttraining's l2: 0.00863194\tvalid_1's l2: 0.013554\n",
      "[85]\ttraining's l2: 0.00859999\tvalid_1's l2: 0.0135543\n",
      "[86]\ttraining's l2: 0.00855734\tvalid_1's l2: 0.013549\n",
      "[87]\ttraining's l2: 0.00851581\tvalid_1's l2: 0.0135477\n",
      "Early stopping, best iteration is:\n",
      "[82]\ttraining's l2: 0.00871178\tvalid_1's l2: 0.0135468\n"
     ]
    }
   ],
   "source": [
    "params = {\n",
    "    'boosting_type': 'gbdt',\n",
    "    'objective': 'regression',\n",
    "    'metric': {'l2'},\n",
    "    'num_leaves': 31,\n",
    "    'learning_rate': 0.05,\n",
    "    'feature_fraction': 0.9,\n",
    "    'bagging_fraction': 0.8,\n",
    "    'bagging_freq': 5,\n",
    "    'verbose': 0\n",
    "}\n",
    "\n",
    "gbm = lightgbm.train(params,\n",
    "    train_data,\n",
    "    num_boost_round=1000,\n",
    "    valid_sets=[train_data, test_data],\n",
    "    early_stopping_rounds=5)\n"
   ]
  },
  {
   "cell_type": "code",
   "execution_count": 28,
   "metadata": {},
   "outputs": [
    {
     "name": "stdout",
     "output_type": "stream",
     "text": [
      "0.7270072210271461\n"
     ]
    }
   ],
   "source": [
    "predictions = gbm.predict(test_x)\n",
    "\n",
    "print(sklearn.metrics.r2_score(test_y, predictions))"
   ]
  }
 ],
 "metadata": {
  "kernelspec": {
   "display_name": "Python 3",
   "language": "python",
   "name": "python3"
  },
  "language_info": {
   "codemirror_mode": {
    "name": "ipython",
    "version": 3
   },
   "file_extension": ".py",
   "mimetype": "text/x-python",
   "name": "python",
   "nbconvert_exporter": "python",
   "pygments_lexer": "ipython3",
   "version": "3.7.1"
  }
 },
 "nbformat": 4,
 "nbformat_minor": 2
}
