{
 "cells": [
  {
   "cell_type": "code",
   "execution_count": 1,
   "metadata": {},
   "outputs": [],
   "source": [
    "import numpy\n",
    "import csv\n",
    "import numpy as np\n",
    "from collections import defaultdict\n",
    "import pickle"
   ]
  },
  {
   "cell_type": "code",
   "execution_count": 2,
   "metadata": {},
   "outputs": [],
   "source": [
    "with open('data/disease_map.pkl', 'rb') as f:\n",
    "    disease_map = pickle.load(f)\n",
    "    \n",
    "with open('data/values_per_column.pkl', 'rb') as f:\n",
    "    values_per_column = pickle.load(f)"
   ]
  },
  {
   "cell_type": "code",
   "execution_count": 3,
   "metadata": {},
   "outputs": [],
   "source": [
    "with open('data/stanford_blueprint_datathon_2019_data.csv') as f:\n",
    "    reader = csv.reader(f)\n",
    "    header = next(reader)\n",
    "    \n",
    "    header_map = {name: i for i, name in enumerate(header)}\n",
    "    \n",
    "diseases = ['chlamydia', 'gential_warts', 'gonorrhea', 'herpes', 'hpv',\n",
    "            'other_std', 'parasitic', 'std_screen', 'syphilis', 'trich']\n",
    "\n",
    "column_to_name = {}\n",
    "index = 0\n",
    "for i, name in enumerate(header):\n",
    "    if i in values_per_column:\n",
    "        column_to_name[index] = name + \"|\" + ''\n",
    "        index += 1\n",
    "        \n",
    "        for val in values_per_column[i]: \n",
    "            column_to_name[index] = name + \"|\" + val\n",
    "            index += 1\n",
    "    else:\n",
    "        column_to_name[index] = name\n",
    "        index += 1\n",
    "\n",
    "name_to_column = {column: index for index, column in column_to_name.items()}"
   ]
  },
  {
   "cell_type": "code",
   "execution_count": 4,
   "metadata": {},
   "outputs": [],
   "source": [
    "policy_dictionary = {}\n",
    "\n",
    "def add_to_dict(name):\n",
    "    if name not in policy_dictionary:\n",
    "        next_index = len(policy_dictionary)\n",
    "        policy_dictionary[name] = next_index\n",
    "\n",
    "with open('data/education_policy.csv') as f:\n",
    "    reader = csv.reader(f, delimiter='\\t')\n",
    "    header = next(reader)\n",
    "\n",
    "    header_map = {name: i for i, name in enumerate(header)}\n",
    "    \n",
    "    rows = list(reader)\n",
    "    \n",
    "    for row in rows:\n",
    "        for h, column in zip(header[1:], row[1:]):\n",
    "            if column == 'both' or column == 'std':\n",
    "                add_to_dict(h + \"|std\")\n",
    "            if column == 'both' or column == 'sex':\n",
    "                add_to_dict(h + \"|sex\")\n",
    "            if column == '1' or column == '2':\n",
    "                add_to_dict(h + \"|has\")\n",
    "            if column == '2':\n",
    "                add_to_dict(h + \"|focus\")\n",
    "    \n",
    "    policy_to_name = {i: name for name, i in policy_dictionary.items()}\n",
    "    policy_map = {}\n",
    "    for row in rows:\n",
    "        values = [0 for _ in range(len(policy_dictionary))]\n",
    "        for h, column in zip(header[1:], row[1:]):\n",
    "            if column == 'both' or column == 'std':\n",
    "                values[policy_dictionary[h + \"|std\"]] = 1\n",
    "            if column == 'both' or column == 'sex':\n",
    "                values[policy_dictionary[h + \"|sex\"]] = 1\n",
    "            if column == '1' or column == '2':\n",
    "                values[policy_dictionary[h + \"|has\"]] = 1\n",
    "            if column == '2':\n",
    "                values[policy_dictionary[h + \"|focus\"]] = 1\n",
    "            \n",
    "            assert column in ('0', '1', '2', 'both', 'std', 'sex', '')\n",
    "            \n",
    "        policy_map[row[header_map['State']]] = values"
   ]
  },
  {
   "cell_type": "code",
   "execution_count": 5,
   "metadata": {},
   "outputs": [],
   "source": [
    "# print('\\n'.join(a for a in name_to_column.keys() if a.startswith('state')))\n",
    "\n",
    "dc_column = name_to_column['state|Washington, DC']"
   ]
  },
  {
   "cell_type": "code",
   "execution_count": 6,
   "metadata": {},
   "outputs": [
    {
     "name": "stdout",
     "output_type": "stream",
     "text": [
      "51124\n"
     ]
    }
   ],
   "source": [
    "disease_to_index = {disease: i for i, disease in enumerate(diseases)}\n",
    "\n",
    "train_year = '2017-04-01'\n",
    "\n",
    "target_disease = 'std_screen'\n",
    "\n",
    "def get_x_y(year, target_disease):\n",
    "    labels = np.load('data/labels/' + year + '.npy')[:, disease_to_index[target_disease]]\n",
    "    data = np.load('data/rows/' + year + '.npy')\n",
    "    non_nan_labels = ~np.isnan(labels) & (data[:, dc_column] == 0)\n",
    "    return data[non_nan_labels, :], labels[non_nan_labels]\n",
    "    \n",
    "train_x, train_y = get_x_y(train_year, target_disease)\n",
    "\n",
    "print(len(train_x))"
   ]
  },
  {
   "cell_type": "code",
   "execution_count": 39,
   "metadata": {},
   "outputs": [
    {
     "name": "stdout",
     "output_type": "stream",
     "text": [
      "(51124,)\n"
     ]
    }
   ],
   "source": [
    "policy_names = []\n",
    "\n",
    "def get_policy_x(data):\n",
    "    result = np.zeros((data.shape[0], len(policy_dictionary)))\n",
    "    \n",
    "    for row_index in range(data.shape[0]):\n",
    "        for state, state_policies in policy_map.items():\n",
    "            state_index = name_to_column['state|' + state]\n",
    "            if data[row_index, state_index] == 1:\n",
    "                result[row_index, :] = state_policies\n",
    "                break\n",
    "        else:\n",
    "            print('Could not find state?', state)\n",
    "            print(name_to_column)\n",
    "            print(1/0)\n",
    "    \n",
    "    final_columns = []\n",
    "    for column, name in policy_to_name.items():\n",
    "        if name in ('Contraception STD education|has', 'Abstinence STD education|focus', 'Statewide policy to teach|std'):\n",
    "            final_columns.append(result[:, column])\n",
    "            policy_names.append(name)\n",
    "    \n",
    "    return np.column_stack(final_columns)\n",
    "\n",
    "final_names = []\n",
    "\n",
    "def clean_for_policy_x(data):\n",
    "    temp = data.copy()\n",
    "    final_columns = []\n",
    "    for name, column in name_to_column.items():\n",
    "        if (\n",
    "            name.startswith('age') or \n",
    "            name.startswith('gender') or \n",
    "            name.startswith('income') or \n",
    "            name.startswith('education')\n",
    "        ) and name not in ('age|', 'age|35-44 years old', \n",
    "                           'gender|', 'gender|Male', 'income|', 'income|$45,000 - $49,999', 'education|', 'education|High School'):\n",
    "            final_columns.append(temp[:, column])\n",
    "            final_names.append(name)\n",
    "            \n",
    "    print(final_columns[0].shape)\n",
    "    return np.column_stack(final_columns)\n",
    "        \n",
    "policy_x = get_policy_x(train_x)\n",
    "cleaned_train_x = clean_for_policy_x(train_x)"
   ]
  },
  {
   "cell_type": "code",
   "execution_count": 40,
   "metadata": {},
   "outputs": [],
   "source": [
    "import statsmodels.api as sm\n",
    "\n",
    "p_train_x = np.hstack((cleaned_train_x, policy_x))\n",
    "\n",
    "X = sm.add_constant(p_train_x)\n",
    "model = sm.OLS(train_y, X)\n",
    "\n",
    "def get_name(i):\n",
    "    if i < len(final_names):\n",
    "        return final_names[i]\n",
    "    else:\n",
    "        return 'Policy|' + policy_names[i - len(final_names)]\n",
    "    \n",
    "for i in range(1, len(model.exog_names)):\n",
    "    model.exog_names[i] = get_name(i - 1)\n",
    "\n",
    "results = model.fit()"
   ]
  },
  {
   "cell_type": "code",
   "execution_count": 41,
   "metadata": {},
   "outputs": [
    {
     "name": "stdout",
     "output_type": "stream",
     "text": [
      "                            OLS Regression Results                            \n",
      "==============================================================================\n",
      "Dep. Variable:                      y   R-squared:                       0.041\n",
      "Model:                            OLS   Adj. R-squared:                  0.040\n",
      "Method:                 Least Squares   F-statistic:                     44.21\n",
      "Date:                Sun, 14 Apr 2019   Prob (F-statistic):               0.00\n",
      "Time:                        06:04:23   Log-Likelihood:                -9225.6\n",
      "No. Observations:               51124   AIC:                         1.855e+04\n",
      "Df Residuals:                   51074   BIC:                         1.899e+04\n",
      "Df Model:                          49                                         \n",
      "Covariance Type:            nonrobust                                         \n",
      "==========================================================================================================\n",
      "                                             coef    std err          t      P>|t|      [0.025      0.975]\n",
      "----------------------------------------------------------------------------------------------------------\n",
      "const                                      0.8189      0.008     99.820      0.000       0.803       0.835\n",
      "age|18-24 years old                       -0.0517      0.006     -8.596      0.000      -0.063      -0.040\n",
      "age|55-64 years old                       -0.0319      0.004     -7.378      0.000      -0.040      -0.023\n",
      "age|75+ years old                         -0.0877      0.005    -17.352      0.000      -0.098      -0.078\n",
      "age|45-54 years old                       -0.0163      0.004     -3.797      0.000      -0.025      -0.008\n",
      "age|65-74 years old                       -0.0679      0.005    -14.670      0.000      -0.077      -0.059\n",
      "age|25-34 years old                        0.0295      0.004      6.804      0.000       0.021       0.038\n",
      "gender|Female                              0.0499      0.003     19.341      0.000       0.045       0.055\n",
      "income|$150,000 - $159,999                -0.0542      0.011     -4.827      0.000      -0.076      -0.032\n",
      "income|$55,000 - $59,999                  -0.0168      0.010     -1.740      0.082      -0.036       0.002\n",
      "income|$70,000 - $74,999                   0.0011      0.010      0.107      0.915      -0.018       0.020\n",
      "income|$140,000 - $144,999                -0.0593      0.012     -5.136      0.000      -0.082      -0.037\n",
      "income|$135,000 - $139,999                -0.0659      0.011     -5.831      0.000      -0.088      -0.044\n",
      "income|$90,000 - $94,999                  -0.0410      0.010     -3.933      0.000      -0.061      -0.021\n",
      "income|$250,000 or more                   -0.0120      0.010     -1.167      0.243      -0.032       0.008\n",
      "income|$15,000 - $19,999                   0.0032      0.010      0.329      0.742      -0.016       0.022\n",
      "income|$95,000 - $99,999                  -0.0464      0.011     -4.281      0.000      -0.068      -0.025\n",
      "income|$180,000 - $189,999                -0.0516      0.011     -4.662      0.000      -0.073      -0.030\n",
      "income|$125,000 - $129,999                -0.0595      0.011     -5.394      0.000      -0.081      -0.038\n",
      "income|$115,000 - $119,999                -0.0333      0.011     -3.150      0.002      -0.054      -0.013\n",
      "income|$30,000 - $34,999                   0.0061      0.009      0.645      0.519      -0.012       0.025\n",
      "income|$40,000 - $44,999                  -0.0023      0.010     -0.234      0.815      -0.021       0.017\n",
      "income|$200,000 - $224,999                -0.0564      0.011     -4.951      0.000      -0.079      -0.034\n",
      "income|$170,000 - $179,999                -0.0523      0.011     -4.725      0.000      -0.074      -0.031\n",
      "income|$130,000 - $134,999                -0.0449      0.011     -4.045      0.000      -0.067      -0.023\n",
      "income|$60,000 - $64,999                  -0.0023      0.010     -0.229      0.819      -0.022       0.017\n",
      "income|$75,000 - $79,999                  -0.0221      0.010     -2.207      0.027      -0.042      -0.002\n",
      "income|Less than $14,999                   0.0414      0.009      4.386      0.000       0.023       0.060\n",
      "income|$50,000 - $54,999                  -0.0018      0.010     -0.179      0.858      -0.021       0.018\n",
      "income|$120,000 - $124,999                -0.0506      0.011     -4.721      0.000      -0.072      -0.030\n",
      "income|$160,000 - $169,999                -0.0585      0.011     -5.246      0.000      -0.080      -0.037\n",
      "income|$100,000 - $104,999                -0.0209      0.010     -1.997      0.046      -0.041      -0.000\n",
      "income|$25,000 - $29,999                   0.0054      0.010      0.556      0.578      -0.014       0.025\n",
      "income|$190,000 - $199,999                -0.0553      0.011     -5.046      0.000      -0.077      -0.034\n",
      "income|$80,000 - $84,999                  -0.0139      0.010     -1.410      0.159      -0.033       0.005\n",
      "income|$110,000 - $114,999                -0.0454      0.010     -4.386      0.000      -0.066      -0.025\n",
      "income|$225,000 - $249,999                -0.0420      0.011     -3.741      0.000      -0.064      -0.020\n",
      "income|$65,000 - $69,999                  -0.0173      0.010     -1.755      0.079      -0.037       0.002\n",
      "income|$85,000 - $89,999                  -0.0214      0.010     -2.137      0.033      -0.041      -0.002\n",
      "income|$20,000 - $24,999                   0.0157      0.009      1.656      0.098      -0.003       0.034\n",
      "income|$105,000 - $109,999                -0.0238      0.010     -2.296      0.022      -0.044      -0.003\n",
      "income|$35,000 - $39,999                   0.0042      0.010      0.428      0.669      -0.015       0.024\n",
      "income|$145,000 - $149,999                -0.0537      0.013     -4.240      0.000      -0.079      -0.029\n",
      "education|Some High School or Less        -0.0405      0.006     -7.130      0.000      -0.052      -0.029\n",
      "education|Graduate School                 -0.1017      0.005    -19.480      0.000      -0.112      -0.091\n",
      "education|College                         -0.0107      0.004     -2.974      0.003      -0.018      -0.004\n",
      "education|Some College                     0.0117      0.003      3.427      0.001       0.005       0.018\n",
      "Policy|Statewide policy to teach|std       0.0083      0.003      2.592      0.010       0.002       0.015\n",
      "Policy|Abstinence STD education|focus      0.0297      0.003     10.641      0.000       0.024       0.035\n",
      "Policy|Contraception STD education|has    -0.0019      0.003     -0.646      0.518      -0.008       0.004\n",
      "==============================================================================\n",
      "Omnibus:                    23979.819   Durbin-Watson:                   1.967\n",
      "Prob(Omnibus):                  0.000   Jarque-Bera (JB):           234151.238\n",
      "Skew:                           2.023   Prob(JB):                         0.00\n",
      "Kurtosis:                      12.672   Cond. No.                         55.0\n",
      "==============================================================================\n",
      "\n",
      "Warnings:\n",
      "[1] Standard Errors assume that the covariance matrix of the errors is correctly specified.\n"
     ]
    }
   ],
   "source": [
    "print(results.summary())"
   ]
  },
  {
   "cell_type": "code",
   "execution_count": 10,
   "metadata": {},
   "outputs": [
    {
     "name": "stdout",
     "output_type": "stream",
     "text": [
      "Policy|Contraception STD education|has\n",
      "0.0029681763728540513\n",
      "-0.0019202307769807456\n"
     ]
    },
    {
     "ename": "TypeError",
     "evalue": "'numpy.ndarray' object is not callable",
     "output_type": "error",
     "traceback": [
      "\u001b[0;31m---------------------------------------------------------------------------\u001b[0m",
      "\u001b[0;31mTypeError\u001b[0m                                 Traceback (most recent call last)",
      "\u001b[0;32m<ipython-input-10-57c03764a2ff>\u001b[0m in \u001b[0;36m<module>\u001b[0;34m\u001b[0m\n\u001b[1;32m      6\u001b[0m     \u001b[0mprint\u001b[0m\u001b[0;34m(\u001b[0m\u001b[0mresults\u001b[0m\u001b[0;34m.\u001b[0m\u001b[0mbse\u001b[0m\u001b[0;34m[\u001b[0m\u001b[0mindex\u001b[0m\u001b[0;34m]\u001b[0m\u001b[0;34m)\u001b[0m\u001b[0;34m\u001b[0m\u001b[0;34m\u001b[0m\u001b[0m\n\u001b[1;32m      7\u001b[0m     \u001b[0mprint\u001b[0m\u001b[0;34m(\u001b[0m\u001b[0mresults\u001b[0m\u001b[0;34m.\u001b[0m\u001b[0mparams\u001b[0m\u001b[0;34m[\u001b[0m\u001b[0mindex\u001b[0m\u001b[0;34m]\u001b[0m\u001b[0;34m)\u001b[0m\u001b[0;34m\u001b[0m\u001b[0;34m\u001b[0m\u001b[0m\n\u001b[0;32m----> 8\u001b[0;31m     \u001b[0mprint\u001b[0m\u001b[0;34m(\u001b[0m\u001b[0mresults\u001b[0m\u001b[0;34m.\u001b[0m\u001b[0mpvalues\u001b[0m\u001b[0;34m(\u001b[0m\u001b[0;34m)\u001b[0m\u001b[0;34m[\u001b[0m\u001b[0mindex\u001b[0m\u001b[0;34m]\u001b[0m\u001b[0;34m)\u001b[0m\u001b[0;34m\u001b[0m\u001b[0;34m\u001b[0m\u001b[0m\n\u001b[0m",
      "\u001b[0;31mTypeError\u001b[0m: 'numpy.ndarray' object is not callable"
     ]
    }
   ],
   "source": [
    "names = ['Policy|Contraception STD education|has', 'Policy|Statewide policy to teach|std', 'Policy|Abstinence STD education|focus']\n",
    "\n",
    "for name in names:\n",
    "    index = policy_dictionary[name[7:]] + max(column_to_name.keys()) + 1 + 1\n",
    "    print(name)\n",
    "    print(results.bse[index])\n",
    "    print(results.params[index])\n",
    "    print(results.pvalues()[index])"
   ]
  },
  {
   "cell_type": "code",
   "execution_count": null,
   "metadata": {},
   "outputs": [],
   "source": [
    "import sklearn.linear_model\n",
    "\n",
    "p_train_x = np.hstack((T_train_x, policy_x))\n",
    "\n",
    "model =  sklearn.linear_model.Lasso(alpha=0.000000001)\n",
    "model.fit(p_train_x, train_y)"
   ]
  },
  {
   "cell_type": "code",
   "execution_count": null,
   "metadata": {},
   "outputs": [],
   "source": [
    "def get_name(i):\n",
    "    if i in column_to_name:\n",
    "        return column_to_name[i]\n",
    "    else:\n",
    "        return 'Policy|' + policy_to_name[i - max(column_to_name.keys()) - 1]\n",
    "\n",
    "coefs = [(get_name(i), val) for i, val in enumerate(model.coef_) if val != 0]\n",
    "coefs.sort(key=lambda x: -x[1])\n",
    "print('\\n'.join(str(a) for a in coefs))"
   ]
  },
  {
   "cell_type": "code",
   "execution_count": null,
   "metadata": {},
   "outputs": [],
   "source": [
    "print(policy_to_name)"
   ]
  },
  {
   "cell_type": "code",
   "execution_count": null,
   "metadata": {},
   "outputs": [],
   "source": []
  },
  {
   "cell_type": "code",
   "execution_count": null,
   "metadata": {},
   "outputs": [],
   "source": []
  },
  {
   "cell_type": "code",
   "execution_count": null,
   "metadata": {},
   "outputs": [],
   "source": []
  }
 ],
 "metadata": {
  "kernelspec": {
   "display_name": "Python 3",
   "language": "python",
   "name": "python3"
  },
  "language_info": {
   "codemirror_mode": {
    "name": "ipython",
    "version": 3
   },
   "file_extension": ".py",
   "mimetype": "text/x-python",
   "name": "python",
   "nbconvert_exporter": "python",
   "pygments_lexer": "ipython3",
   "version": "3.7.1"
  }
 },
 "nbformat": 4,
 "nbformat_minor": 2
}
